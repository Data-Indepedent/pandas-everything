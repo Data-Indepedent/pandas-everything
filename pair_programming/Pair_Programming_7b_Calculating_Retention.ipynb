{
 "cells": [
  {
   "cell_type": "markdown",
   "metadata": {},
   "source": [
    "## Manually Calculating Retention\n",
    "\n",
    "Retention is, without question, a top 5 KPI that is tracked for user analytics. Retention is a measure of how long your users or accounts stick around after they first join.\n",
    "\n",
    "Retention is often higlighted in analytics tools as drag 'n drop. But have you ever wondered how it's calculated in the first place?\n",
    "\n",
    "Learning to calculate retention manually is like chopping down your own tree before you turn it into a table. You won't need to do this all the time, but when you do, you'll be glad you had.\n",
    "\n",
    "So let's wax on/wax off grasshopper and see how this is done...\n",
    "\n",
    "**Goal: Calculate user retention for a fictional b2c app**\n",
    "\n",
    "Steps:\n",
    "1. Get the first day your users were active\n",
    "2. Derive the week and month of that start date\n",
    "3. For each remaining day of activity since the start date, find out the relative number of days between the day of activity and the user's start date.\n",
    "4. Do the same for week and month\n",
    "5. Plot how many users are 'left' via the relative time between activity and start date\n",
    "6. Then split your plot into cohorts by isolating your users by when they first started"
   ]
  },
  {
   "cell_type": "code",
   "execution_count": 2,
   "metadata": {},
   "outputs": [],
   "source": [
    "import pandas as pd\n",
    "import numpy as np\n",
    "import matplotlib.pyplot as plt"
   ]
  },
  {
   "cell_type": "markdown",
   "metadata": {},
   "source": [
    "We are going to be working with a fictional dataset. Believe it or not, it look me a second to figure out the best way to create it. If you're interested in creating your own user retention data, [check it out here.](https://github.com/Data-Indepedent/pandas_everything/blob/master/pair_programming/Pair_Programming_7a_Creating_Retention_Dataset.ipynb)"
   ]
  },
  {
   "cell_type": "code",
   "execution_count": 7,
   "metadata": {},
   "outputs": [
    {
     "name": "stdout",
     "output_type": "stream",
     "text": [
      "You have 300777 rows in your data\n"
     ]
    },
    {
     "data": {
      "text/html": [
       "<div>\n",
       "<style scoped>\n",
       "    .dataframe tbody tr th:only-of-type {\n",
       "        vertical-align: middle;\n",
       "    }\n",
       "\n",
       "    .dataframe tbody tr th {\n",
       "        vertical-align: top;\n",
       "    }\n",
       "\n",
       "    .dataframe thead th {\n",
       "        text-align: right;\n",
       "    }\n",
       "</style>\n",
       "<table border=\"1\" class=\"dataframe\">\n",
       "  <thead>\n",
       "    <tr style=\"text-align: right;\">\n",
       "      <th></th>\n",
       "      <th>user_id</th>\n",
       "      <th>day</th>\n",
       "      <th>active</th>\n",
       "    </tr>\n",
       "  </thead>\n",
       "  <tbody>\n",
       "    <tr>\n",
       "      <th>0</th>\n",
       "      <td>cc81d6ba-a4e6-45ff-952f-ce1ea212a50f</td>\n",
       "      <td>2020-01-20</td>\n",
       "      <td>1</td>\n",
       "    </tr>\n",
       "    <tr>\n",
       "      <th>1</th>\n",
       "      <td>a58cd768-1318-47f7-bea4-09982e6f5479</td>\n",
       "      <td>2020-01-26</td>\n",
       "      <td>1</td>\n",
       "    </tr>\n",
       "    <tr>\n",
       "      <th>2</th>\n",
       "      <td>5d6bb30f-b525-4860-9704-8d06e1a42bad</td>\n",
       "      <td>2020-01-03</td>\n",
       "      <td>1</td>\n",
       "    </tr>\n",
       "    <tr>\n",
       "      <th>3</th>\n",
       "      <td>5ce8faec-7390-47da-b861-c621bf7077d3</td>\n",
       "      <td>2020-01-26</td>\n",
       "      <td>1</td>\n",
       "    </tr>\n",
       "    <tr>\n",
       "      <th>4</th>\n",
       "      <td>2d7bdd44-0cc0-46b7-b247-4be58cfd327c</td>\n",
       "      <td>2020-01-05</td>\n",
       "      <td>1</td>\n",
       "    </tr>\n",
       "  </tbody>\n",
       "</table>\n",
       "</div>"
      ],
      "text/plain": [
       "                                user_id        day  active\n",
       "0  cc81d6ba-a4e6-45ff-952f-ce1ea212a50f 2020-01-20       1\n",
       "1  a58cd768-1318-47f7-bea4-09982e6f5479 2020-01-26       1\n",
       "2  5d6bb30f-b525-4860-9704-8d06e1a42bad 2020-01-03       1\n",
       "3  5ce8faec-7390-47da-b861-c621bf7077d3 2020-01-26       1\n",
       "4  2d7bdd44-0cc0-46b7-b247-4be58cfd327c 2020-01-05       1"
      ]
     },
     "execution_count": 7,
     "metadata": {},
     "output_type": "execute_result"
    }
   ],
   "source": [
    "df = pd.read_csv('../data/RetentionDataset.csv', parse_dates=['day'])\n",
    "print(\"You have {} rows in your data\".format(len(df)))\n",
    "df.head()"
   ]
  },
  {
   "cell_type": "markdown",
   "metadata": {},
   "source": [
    "As you can see above, what we have is a table with ~300K rows and three columns representing users, the day a user was active, and then an indicator column. The indicator column is all 1s (I filtered out the 0s) so it doesn't provide a lot of value other than making you feel better about your data.\n",
    "\n",
    "Either way, the first step is finding in *the first day* your user was active. This will help you put your users into *cohorts* segmented by when they started."
   ]
  },
  {
   "cell_type": "markdown",
   "metadata": {},
   "source": [
    "### Derive when your user first started\n",
    "This is pretty easy, just group by user_id and find the minimum date for each one"
   ]
  },
  {
   "cell_type": "code",
   "execution_count": 8,
   "metadata": {},
   "outputs": [
    {
     "data": {
      "text/plain": [
       "user_id\n",
       "0001143b-9583-4e9c-bcbf-958d5416bcc1   2020-07-07\n",
       "00030b74-3f01-4ea7-9632-a58bfee36c46   2020-05-17\n",
       "00039164-0c53-472b-b053-3bfbc3a12762   2020-06-23\n",
       "000726bd-f312-4612-8ceb-4ca028dfb57c   2020-05-12\n",
       "00090bcd-d7e9-470f-9d46-d80c81fa9d78   2020-04-17\n",
       "                                          ...    \n",
       "ffed80e3-9909-4cff-b4f9-4013701dfe42   2020-02-01\n",
       "fff32214-98d2-45b8-8a17-59fab6e42d39   2020-07-24\n",
       "fff3e9d5-b575-41da-8748-f3299938a325   2020-06-04\n",
       "fff605e5-6788-41b7-adc8-36747d824323   2020-08-24\n",
       "fffe4c6b-3108-46f3-814b-3fd990ce4e05   2020-07-25\n",
       "Name: start_day, Length: 15114, dtype: datetime64[ns]"
      ]
     },
     "execution_count": 8,
     "metadata": {},
     "output_type": "execute_result"
    }
   ],
   "source": [
    "# Get the first day a user was active\n",
    "start_date = df.groupby('user_id')['day'].min()\n",
    "start_date = start_date.rename(\"start_day\")\n",
    "start_date"
   ]
  },
  {
   "cell_type": "markdown",
   "metadata": {},
   "source": [
    "See above, what we get is a table with 1 row per user, and the corresponding start date. The assumption here is that their first day of activity is their registration date or start date.\n",
    "\n",
    "Then join that data back onto your original table. This will 'label' your users"
   ]
  },
  {
   "cell_type": "code",
   "execution_count": 9,
   "metadata": {},
   "outputs": [
    {
     "data": {
      "text/html": [
       "<div>\n",
       "<style scoped>\n",
       "    .dataframe tbody tr th:only-of-type {\n",
       "        vertical-align: middle;\n",
       "    }\n",
       "\n",
       "    .dataframe tbody tr th {\n",
       "        vertical-align: top;\n",
       "    }\n",
       "\n",
       "    .dataframe thead th {\n",
       "        text-align: right;\n",
       "    }\n",
       "</style>\n",
       "<table border=\"1\" class=\"dataframe\">\n",
       "  <thead>\n",
       "    <tr style=\"text-align: right;\">\n",
       "      <th></th>\n",
       "      <th>user_id</th>\n",
       "      <th>day</th>\n",
       "      <th>active</th>\n",
       "      <th>start_day</th>\n",
       "    </tr>\n",
       "  </thead>\n",
       "  <tbody>\n",
       "    <tr>\n",
       "      <th>0</th>\n",
       "      <td>cc81d6ba-a4e6-45ff-952f-ce1ea212a50f</td>\n",
       "      <td>2020-01-20</td>\n",
       "      <td>1</td>\n",
       "      <td>2020-01-20</td>\n",
       "    </tr>\n",
       "    <tr>\n",
       "      <th>15114</th>\n",
       "      <td>cc81d6ba-a4e6-45ff-952f-ce1ea212a50f</td>\n",
       "      <td>2020-01-21</td>\n",
       "      <td>1</td>\n",
       "      <td>2020-01-20</td>\n",
       "    </tr>\n",
       "    <tr>\n",
       "      <th>25773</th>\n",
       "      <td>cc81d6ba-a4e6-45ff-952f-ce1ea212a50f</td>\n",
       "      <td>2020-01-22</td>\n",
       "      <td>1</td>\n",
       "      <td>2020-01-20</td>\n",
       "    </tr>\n",
       "    <tr>\n",
       "      <th>41779</th>\n",
       "      <td>cc81d6ba-a4e6-45ff-952f-ce1ea212a50f</td>\n",
       "      <td>2020-01-24</td>\n",
       "      <td>1</td>\n",
       "      <td>2020-01-20</td>\n",
       "    </tr>\n",
       "    <tr>\n",
       "      <th>71184</th>\n",
       "      <td>cc81d6ba-a4e6-45ff-952f-ce1ea212a50f</td>\n",
       "      <td>2020-01-29</td>\n",
       "      <td>1</td>\n",
       "      <td>2020-01-20</td>\n",
       "    </tr>\n",
       "  </tbody>\n",
       "</table>\n",
       "</div>"
      ],
      "text/plain": [
       "                                    user_id        day  active  start_day\n",
       "0      cc81d6ba-a4e6-45ff-952f-ce1ea212a50f 2020-01-20       1 2020-01-20\n",
       "15114  cc81d6ba-a4e6-45ff-952f-ce1ea212a50f 2020-01-21       1 2020-01-20\n",
       "25773  cc81d6ba-a4e6-45ff-952f-ce1ea212a50f 2020-01-22       1 2020-01-20\n",
       "41779  cc81d6ba-a4e6-45ff-952f-ce1ea212a50f 2020-01-24       1 2020-01-20\n",
       "71184  cc81d6ba-a4e6-45ff-952f-ce1ea212a50f 2020-01-29       1 2020-01-20"
      ]
     },
     "execution_count": 9,
     "metadata": {},
     "output_type": "execute_result"
    }
   ],
   "source": [
    "# Join start date\n",
    "df = pd.merge(df, start_date, left_on='user_id', right_index=True)\n",
    "df.head()"
   ]
  },
  {
   "cell_type": "markdown",
   "metadata": {},
   "source": [
    "Next, for each row, calculate the days since start."
   ]
  },
  {
   "cell_type": "code",
   "execution_count": 11,
   "metadata": {},
   "outputs": [
    {
     "data": {
      "text/html": [
       "<div>\n",
       "<style scoped>\n",
       "    .dataframe tbody tr th:only-of-type {\n",
       "        vertical-align: middle;\n",
       "    }\n",
       "\n",
       "    .dataframe tbody tr th {\n",
       "        vertical-align: top;\n",
       "    }\n",
       "\n",
       "    .dataframe thead th {\n",
       "        text-align: right;\n",
       "    }\n",
       "</style>\n",
       "<table border=\"1\" class=\"dataframe\">\n",
       "  <thead>\n",
       "    <tr style=\"text-align: right;\">\n",
       "      <th></th>\n",
       "      <th>user_id</th>\n",
       "      <th>day</th>\n",
       "      <th>active</th>\n",
       "      <th>start_day</th>\n",
       "      <th>days_since_start</th>\n",
       "    </tr>\n",
       "  </thead>\n",
       "  <tbody>\n",
       "    <tr>\n",
       "      <th>0</th>\n",
       "      <td>cc81d6ba-a4e6-45ff-952f-ce1ea212a50f</td>\n",
       "      <td>2020-01-20</td>\n",
       "      <td>1</td>\n",
       "      <td>2020-01-20</td>\n",
       "      <td>0</td>\n",
       "    </tr>\n",
       "    <tr>\n",
       "      <th>15114</th>\n",
       "      <td>cc81d6ba-a4e6-45ff-952f-ce1ea212a50f</td>\n",
       "      <td>2020-01-21</td>\n",
       "      <td>1</td>\n",
       "      <td>2020-01-20</td>\n",
       "      <td>1</td>\n",
       "    </tr>\n",
       "    <tr>\n",
       "      <th>25773</th>\n",
       "      <td>cc81d6ba-a4e6-45ff-952f-ce1ea212a50f</td>\n",
       "      <td>2020-01-22</td>\n",
       "      <td>1</td>\n",
       "      <td>2020-01-20</td>\n",
       "      <td>2</td>\n",
       "    </tr>\n",
       "    <tr>\n",
       "      <th>41779</th>\n",
       "      <td>cc81d6ba-a4e6-45ff-952f-ce1ea212a50f</td>\n",
       "      <td>2020-01-24</td>\n",
       "      <td>1</td>\n",
       "      <td>2020-01-20</td>\n",
       "      <td>4</td>\n",
       "    </tr>\n",
       "    <tr>\n",
       "      <th>71184</th>\n",
       "      <td>cc81d6ba-a4e6-45ff-952f-ce1ea212a50f</td>\n",
       "      <td>2020-01-29</td>\n",
       "      <td>1</td>\n",
       "      <td>2020-01-20</td>\n",
       "      <td>9</td>\n",
       "    </tr>\n",
       "  </tbody>\n",
       "</table>\n",
       "</div>"
      ],
      "text/plain": [
       "                                    user_id        day  active  start_day  \\\n",
       "0      cc81d6ba-a4e6-45ff-952f-ce1ea212a50f 2020-01-20       1 2020-01-20   \n",
       "15114  cc81d6ba-a4e6-45ff-952f-ce1ea212a50f 2020-01-21       1 2020-01-20   \n",
       "25773  cc81d6ba-a4e6-45ff-952f-ce1ea212a50f 2020-01-22       1 2020-01-20   \n",
       "41779  cc81d6ba-a4e6-45ff-952f-ce1ea212a50f 2020-01-24       1 2020-01-20   \n",
       "71184  cc81d6ba-a4e6-45ff-952f-ce1ea212a50f 2020-01-29       1 2020-01-20   \n",
       "\n",
       "       days_since_start  \n",
       "0                     0  \n",
       "15114                 1  \n",
       "25773                 2  \n",
       "41779                 4  \n",
       "71184                 9  "
      ]
     },
     "execution_count": 11,
     "metadata": {},
     "output_type": "execute_result"
    }
   ],
   "source": [
    "df['days_since_start'] = (df['day'] - df['start_day']).dt.days\n",
    "df.head()"
   ]
  },
  {
   "cell_type": "markdown",
   "metadata": {},
   "source": [
    "This is a key point. Notice here that the 'days since start' show, for each day the user was active, how many days has it been since they first started.\n",
    "\n",
    "We are doing this to get the relative retention for each user *since* their start date. This helps us understand what each user first day/week/month looks like.\n",
    "\n",
    "Now that you have days since start, do the same thing for weeks and months since start. To make it each, make sure you have integers (no need to have floats)."
   ]
  },
  {
   "cell_type": "code",
   "execution_count": 27,
   "metadata": {},
   "outputs": [],
   "source": [
    "# Extract start week\n",
    "df['start_week'] = df.apply(lambda x: (x['start_day'] - pd.Timedelta(x['start_day'].dayofweek, u='day')).date(), axis=1)\n",
    "\n",
    "# For some reason I don't care to dig into, the output was not a datetime so I'm converting it into one.\n",
    "df['start_week'] = pd.to_datetime(df['start_week'])\n",
    "\n",
    "# Get the number of weeks since the user started\n",
    "df['weeks_since_start'] = np.floor((df['day'] - df['start_week']) / np.timedelta64(1, 'W'))"
   ]
  },
  {
   "cell_type": "code",
   "execution_count": 38,
   "metadata": {},
   "outputs": [],
   "source": [
    "# Extract start month\n",
    "df['start_month'] = df['start_day'].values.astype('datetime64[M]')\n",
    "\n",
    "# Get the number of months since the user started\n",
    "df['months_since_start'] = np.floor((df['day'] - df['start_month']) / np.timedelta64(1, 'M'))"
   ]
  },
  {
   "cell_type": "markdown",
   "metadata": {},
   "source": [
    "Now let's check out our df and see what we have!"
   ]
  },
  {
   "cell_type": "code",
   "execution_count": 39,
   "metadata": {},
   "outputs": [
    {
     "data": {
      "text/html": [
       "<div>\n",
       "<style scoped>\n",
       "    .dataframe tbody tr th:only-of-type {\n",
       "        vertical-align: middle;\n",
       "    }\n",
       "\n",
       "    .dataframe tbody tr th {\n",
       "        vertical-align: top;\n",
       "    }\n",
       "\n",
       "    .dataframe thead th {\n",
       "        text-align: right;\n",
       "    }\n",
       "</style>\n",
       "<table border=\"1\" class=\"dataframe\">\n",
       "  <thead>\n",
       "    <tr style=\"text-align: right;\">\n",
       "      <th></th>\n",
       "      <th>user_id</th>\n",
       "      <th>day</th>\n",
       "      <th>active</th>\n",
       "      <th>start_day</th>\n",
       "      <th>days_since_start</th>\n",
       "      <th>start_week</th>\n",
       "      <th>weeks_since_start</th>\n",
       "      <th>start_month</th>\n",
       "      <th>months_since_start</th>\n",
       "    </tr>\n",
       "  </thead>\n",
       "  <tbody>\n",
       "    <tr>\n",
       "      <th>0</th>\n",
       "      <td>cc81d6ba-a4e6-45ff-952f-ce1ea212a50f</td>\n",
       "      <td>2020-01-20</td>\n",
       "      <td>1</td>\n",
       "      <td>2020-01-20</td>\n",
       "      <td>0</td>\n",
       "      <td>2020-01-20</td>\n",
       "      <td>0.0</td>\n",
       "      <td>2020-01-01</td>\n",
       "      <td>0.0</td>\n",
       "    </tr>\n",
       "    <tr>\n",
       "      <th>15114</th>\n",
       "      <td>cc81d6ba-a4e6-45ff-952f-ce1ea212a50f</td>\n",
       "      <td>2020-01-21</td>\n",
       "      <td>1</td>\n",
       "      <td>2020-01-20</td>\n",
       "      <td>1</td>\n",
       "      <td>2020-01-20</td>\n",
       "      <td>0.0</td>\n",
       "      <td>2020-01-01</td>\n",
       "      <td>0.0</td>\n",
       "    </tr>\n",
       "    <tr>\n",
       "      <th>25773</th>\n",
       "      <td>cc81d6ba-a4e6-45ff-952f-ce1ea212a50f</td>\n",
       "      <td>2020-01-22</td>\n",
       "      <td>1</td>\n",
       "      <td>2020-01-20</td>\n",
       "      <td>2</td>\n",
       "      <td>2020-01-20</td>\n",
       "      <td>0.0</td>\n",
       "      <td>2020-01-01</td>\n",
       "      <td>0.0</td>\n",
       "    </tr>\n",
       "    <tr>\n",
       "      <th>41779</th>\n",
       "      <td>cc81d6ba-a4e6-45ff-952f-ce1ea212a50f</td>\n",
       "      <td>2020-01-24</td>\n",
       "      <td>1</td>\n",
       "      <td>2020-01-20</td>\n",
       "      <td>4</td>\n",
       "      <td>2020-01-20</td>\n",
       "      <td>0.0</td>\n",
       "      <td>2020-01-01</td>\n",
       "      <td>0.0</td>\n",
       "    </tr>\n",
       "    <tr>\n",
       "      <th>71184</th>\n",
       "      <td>cc81d6ba-a4e6-45ff-952f-ce1ea212a50f</td>\n",
       "      <td>2020-01-29</td>\n",
       "      <td>1</td>\n",
       "      <td>2020-01-20</td>\n",
       "      <td>9</td>\n",
       "      <td>2020-01-20</td>\n",
       "      <td>1.0</td>\n",
       "      <td>2020-01-01</td>\n",
       "      <td>0.0</td>\n",
       "    </tr>\n",
       "  </tbody>\n",
       "</table>\n",
       "</div>"
      ],
      "text/plain": [
       "                                    user_id        day  active  start_day  \\\n",
       "0      cc81d6ba-a4e6-45ff-952f-ce1ea212a50f 2020-01-20       1 2020-01-20   \n",
       "15114  cc81d6ba-a4e6-45ff-952f-ce1ea212a50f 2020-01-21       1 2020-01-20   \n",
       "25773  cc81d6ba-a4e6-45ff-952f-ce1ea212a50f 2020-01-22       1 2020-01-20   \n",
       "41779  cc81d6ba-a4e6-45ff-952f-ce1ea212a50f 2020-01-24       1 2020-01-20   \n",
       "71184  cc81d6ba-a4e6-45ff-952f-ce1ea212a50f 2020-01-29       1 2020-01-20   \n",
       "\n",
       "       days_since_start start_week  weeks_since_start start_month  \\\n",
       "0                     0 2020-01-20                0.0  2020-01-01   \n",
       "15114                 1 2020-01-20                0.0  2020-01-01   \n",
       "25773                 2 2020-01-20                0.0  2020-01-01   \n",
       "41779                 4 2020-01-20                0.0  2020-01-01   \n",
       "71184                 9 2020-01-20                1.0  2020-01-01   \n",
       "\n",
       "       months_since_start  \n",
       "0                     0.0  \n",
       "15114                 0.0  \n",
       "25773                 0.0  \n",
       "41779                 0.0  \n",
       "71184                 0.0  "
      ]
     },
     "execution_count": 39,
     "metadata": {},
     "output_type": "execute_result"
    }
   ],
   "source": [
    "df.head()"
   ]
  },
  {
   "cell_type": "markdown",
   "metadata": {},
   "source": [
    "Let's plot the 40-day daily retention of *everyone* in the dataset. To do this, I want to make sure I only look at users with 40 days worth of data. I'm going to filter out everyone who started 40 days with my max date"
   ]
  },
  {
   "cell_type": "code",
   "execution_count": 42,
   "metadata": {},
   "outputs": [],
   "source": [
    "f1 = df['start_day'] < df['day'].max() - pd.Timedelta(days=40)\n",
    "dff = df[f1]"
   ]
  },
  {
   "cell_type": "code",
   "execution_count": 43,
   "metadata": {},
   "outputs": [
    {
     "data": {
      "text/plain": [
       "300777"
      ]
     },
     "execution_count": 43,
     "metadata": {},
     "output_type": "execute_result"
    }
   ],
   "source": [
    "len(df)"
   ]
  },
  {
   "cell_type": "markdown",
   "metadata": {},
   "source": [
    "Great, looks like it was everyone, so this step wasn't needed. But as a data person, I like the assurance that my data is clean.\n",
    "\n",
    "Now let's step through the calculation once together. First, I only care about a user, their relative active day. Each row below tells me that user X was active on Y days after their starting date."
   ]
  },
  {
   "cell_type": "code",
   "execution_count": 45,
   "metadata": {},
   "outputs": [
    {
     "data": {
      "text/html": [
       "<div>\n",
       "<style scoped>\n",
       "    .dataframe tbody tr th:only-of-type {\n",
       "        vertical-align: middle;\n",
       "    }\n",
       "\n",
       "    .dataframe tbody tr th {\n",
       "        vertical-align: top;\n",
       "    }\n",
       "\n",
       "    .dataframe thead th {\n",
       "        text-align: right;\n",
       "    }\n",
       "</style>\n",
       "<table border=\"1\" class=\"dataframe\">\n",
       "  <thead>\n",
       "    <tr style=\"text-align: right;\">\n",
       "      <th></th>\n",
       "      <th>user_id</th>\n",
       "      <th>days_since_start</th>\n",
       "    </tr>\n",
       "  </thead>\n",
       "  <tbody>\n",
       "    <tr>\n",
       "      <th>0</th>\n",
       "      <td>cc81d6ba-a4e6-45ff-952f-ce1ea212a50f</td>\n",
       "      <td>0</td>\n",
       "    </tr>\n",
       "    <tr>\n",
       "      <th>15114</th>\n",
       "      <td>cc81d6ba-a4e6-45ff-952f-ce1ea212a50f</td>\n",
       "      <td>1</td>\n",
       "    </tr>\n",
       "    <tr>\n",
       "      <th>25773</th>\n",
       "      <td>cc81d6ba-a4e6-45ff-952f-ce1ea212a50f</td>\n",
       "      <td>2</td>\n",
       "    </tr>\n",
       "    <tr>\n",
       "      <th>41779</th>\n",
       "      <td>cc81d6ba-a4e6-45ff-952f-ce1ea212a50f</td>\n",
       "      <td>4</td>\n",
       "    </tr>\n",
       "    <tr>\n",
       "      <th>71184</th>\n",
       "      <td>cc81d6ba-a4e6-45ff-952f-ce1ea212a50f</td>\n",
       "      <td>9</td>\n",
       "    </tr>\n",
       "  </tbody>\n",
       "</table>\n",
       "</div>"
      ],
      "text/plain": [
       "                                    user_id  days_since_start\n",
       "0      cc81d6ba-a4e6-45ff-952f-ce1ea212a50f                 0\n",
       "15114  cc81d6ba-a4e6-45ff-952f-ce1ea212a50f                 1\n",
       "25773  cc81d6ba-a4e6-45ff-952f-ce1ea212a50f                 2\n",
       "41779  cc81d6ba-a4e6-45ff-952f-ce1ea212a50f                 4\n",
       "71184  cc81d6ba-a4e6-45ff-952f-ce1ea212a50f                 9"
      ]
     },
     "execution_count": 45,
     "metadata": {},
     "output_type": "execute_result"
    }
   ],
   "source": [
    "df[['user_id', 'days_since_start']].head()"
   ]
  },
  {
   "cell_type": "markdown",
   "metadata": {},
   "source": [
    "To find out how many users were still active, let's say 40 days out, I'm going to *group by* days since start, and then count distinct on user ID. \n",
    "\n",
    "100% of users will be active on day 1, I wonder how many users have a day 2 entry...\n",
    "\n",
    "If a user does *not* have a day 2 row, then this tells me they weren't active, and the rentention of the population should go down for this day. Let's see..."
   ]
  },
  {
   "cell_type": "code",
   "execution_count": 47,
   "metadata": {},
   "outputs": [
    {
     "data": {
      "text/plain": [
       "days_since_start\n",
       "0    15114\n",
       "1    10659\n",
       "2     8566\n",
       "3     7440\n",
       "4     6722\n",
       "Name: user_id, dtype: int64"
      ]
     },
     "execution_count": 47,
     "metadata": {},
     "output_type": "execute_result"
    }
   ],
   "source": [
    "df.groupby('days_since_start')['user_id'].nunique().head()"
   ]
  },
  {
   "cell_type": "markdown",
   "metadata": {},
   "source": [
    "WOW! And with that, we've calculated that there are 15,114 users in the dataset, and only 10,659 were active on day two. This means that 29.4% of users dropped off on day two. This is super cool to find out. \n",
    "\n",
    "Last thing we'll do is divide the total number of users in the dataset. If we end up looking at cohorts of different sizes, we'll want to look at *percent of the population* that was retained rather than absolute numbers."
   ]
  },
  {
   "cell_type": "code",
   "execution_count": 50,
   "metadata": {},
   "outputs": [
    {
     "data": {
      "text/plain": [
       "days_since_start\n",
       "0    1.000000\n",
       "1    0.705240\n",
       "2    0.566759\n",
       "3    0.492259\n",
       "4    0.444753\n",
       "Name: user_id, dtype: float64"
      ]
     },
     "execution_count": 50,
     "metadata": {},
     "output_type": "execute_result"
    }
   ],
   "source": [
    "df.groupby('days_since_start')['user_id'].nunique().head() / df['user_id'].nunique()"
   ]
  },
  {
   "cell_type": "markdown",
   "metadata": {},
   "source": [
    "Let's plot this out for the entire cohort. I'll add labels and call outs for digestability."
   ]
  },
  {
   "cell_type": "code",
   "execution_count": 83,
   "metadata": {},
   "outputs": [
    {
     "data": {
      "image/png": "[encoded data removed]",
      "text/plain": [
       "<Figure size 432x288 with 1 Axes>"
      ]
     },
     "metadata": {
      "needs_background": "light"
     },
     "output_type": "display_data"
    }
   ],
   "source": [
    "whole_retention = df.groupby('days_since_start')['user_id'].nunique() / df['user_id'].nunique()\n",
    "\n",
    "plt.plot(whole_retention)\n",
    "plt.title(\"100-Day Daily Retention\")\n",
    "plt.xlabel(\"Days Since User First Started\")\n",
    "plt.ylabel(\"Percent Of Users Retained\")\n",
    "plt.ylim(0,1.05)\n",
    "\n",
    "plt.hlines(y=whole_retention.loc[20], xmin=0, xmax=20, linestyles='dotted')\n",
    "plt.vlines(x=20, ymin=0, ymax=whole_retention.loc[20], linestyles='dotted')\n",
    "plt.text(s=(\"Ex: There were {:.0%} users retained on Day 20\".format(whole_retention.loc[20])),\n",
    "        x=20, y=whole_retention.loc[20] + .05);"
   ]
  },
  {
   "cell_type": "markdown",
   "metadata": {},
   "source": [
    "Wow that is cool! Now we can visually see users over their life on our service/app. I wonder if we are getting *better at retaining* users over time? Let's plot this same chart, but separate out the different user corhorts to see if things are improving and more users are sticking around.\n",
    "\n",
    "There are more efficient ways to loop, but I'll do that one that speaks most like english, the trusty for loop."
   ]
  },
  {
   "cell_type": "code",
   "execution_count": 125,
   "metadata": {},
   "outputs": [
    {
     "data": {
      "image/png": "[encoded data removed]",
      "text/plain": [
       "<Figure size 864x432 with 1 Axes>"
      ]
     },
     "metadata": {
      "needs_background": "light"
     },
     "output_type": "display_data"
    }
   ],
   "source": [
    "plt.figure(figsize=(12,6))\n",
    "legend_x = 85\n",
    "legend_y = .55\n",
    "\n",
    "# For each start month you have, loop.\n",
    "for i, month in enumerate(df['start_month'].unique()):\n",
    "    \n",
    "    # For each month, create a cohort df (dfc) that is filtered just for that month\n",
    "    dfc = df[df['start_month']==pd.to_datetime(month)]\n",
    "\n",
    "    # Then get your retention corhorts for that start month\n",
    "    retention_cohort = dfc.groupby('days_since_start')['user_id'].nunique() / dfc['user_id'].nunique()\n",
    "    \n",
    "    # Finally, plot out that corhort\n",
    "    p = plt.plot(retention_cohort)\n",
    "    \n",
    "    # My hacky way to get a nice legend in here\n",
    "    plt.text(s=pd.to_datetime(month).strftime('%B %Y'), c=p[0].get_color(),\n",
    "             x=legend_x, y=legend_y + (.05 * i), weight='bold')\n",
    "\n",
    "plt.text(s=\"Cohort Month:\", x=legend_x, y=legend_y + (.05 * i) + .05, weight='bold')\n",
    "plt.title(\"100-Day Daily Retention\")\n",
    "plt.xlabel(\"Days Since User First Started\")\n",
    "plt.ylabel(\"Percent Of Users Retained\")\n",
    "plt.ylim(0,1.05);"
   ]
  },
  {
   "cell_type": "markdown",
   "metadata": {},
   "source": [
    "Awesome, congratulations on just manually calculating retention! Have fun."
   ]
  }
 ],
 "metadata": {
  "kernelspec": {
   "display_name": "Python 3",
   "language": "python",
   "name": "python3"
  },
  "language_info": {
   "codemirror_mode": {
    "name": "ipython",
    "version": 3
   },
   "file_extension": ".py",
   "mimetype": "text/x-python",
   "name": "python",
   "nbconvert_exporter": "python",
   "pygments_lexer": "ipython3",
   "version": "3.7.6"
  }
 },
 "nbformat": 4,
 "nbformat_minor": 4
}
